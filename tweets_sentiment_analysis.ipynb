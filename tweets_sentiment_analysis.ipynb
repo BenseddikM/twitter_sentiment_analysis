{
 "cells": [
  {
   "cell_type": "markdown",
   "metadata": {},
   "source": [
    "# Tweets Sentiment Analysis using NLTK"
   ]
  },
  {
   "cell_type": "code",
   "execution_count": 1,
   "metadata": {
    "collapsed": true
   },
   "outputs": [],
   "source": [
    "#!/usr/bin/env python\n",
    "# -*- coding: utf-8 -*-\n",
    "import pandas as pd\n",
    "import os\n",
    "import csv as csv\n",
    "import nltk as nltk\n",
    "import re\n",
    "from nltk.corpus import wordnet as wn\n",
    "import nltk as nltk\n",
    "import re\n",
    "from nltk.corpus import wordnet as wn\n",
    "from nltk.tokenize.casual import TweetTokenizer\n",
    "from sklearn.metrics import confusion_matrix, classification_report\n",
    "import numpy as np\n",
    "import matplotlib.pyplot as plt\n",
    "import itertools\n",
    "import warnings\n",
    "warnings.filterwarnings('ignore')\n",
    "import seaborn as sns\n",
    "\n",
    "%matplotlib inline"
   ]
  },
  {
   "cell_type": "code",
   "execution_count": 2,
   "metadata": {
    "collapsed": true
   },
   "outputs": [],
   "source": [
    "csvTweetData = \"testdata.manual.2009.06.14.csv\"\n",
    "df = pd.read_csv(csvTweetData,header=None)"
   ]
  },
  {
   "cell_type": "code",
   "execution_count": 38,
   "metadata": {
    "collapsed": true
   },
   "outputs": [],
   "source": [
    "cols = {0:\"popularity\",1:\"id\",2:\"date\",3:\"associated_request\",4:\"user\",5:\"text\"}\n",
    "df = df.rename(columns=cols)"
   ]
  },
  {
   "cell_type": "markdown",
   "metadata": {},
   "source": [
    "### Abrevs Import"
   ]
  },
  {
   "cell_type": "code",
   "execution_count": 4,
   "metadata": {
    "collapsed": true
   },
   "outputs": [],
   "source": [
    "# Big problems with python 3.5 and encoding\n",
    "dataAbrevs = open('abrevs.txt', encoding='utf-8'\n",
    "                  , errors='ignore')\n",
    "dicoSlang = {}\n",
    "for line in dataAbrevs:\n",
    "    line = line.strip(' \\t\\n\\r').split('\\t')\n",
    "    dicoSlang[line[0]] = str(line[1])"
   ]
  },
  {
   "cell_type": "code",
   "execution_count": 5,
   "metadata": {},
   "outputs": [
    {
     "data": {
      "text/plain": [
       "dict_items([('dbau', 'doing business as usual'), ('btw', 'by the way'), ('milf', 'mother I would like to fuck'), ('ldr', 'longdistancerelationship'), ('pir', 'parent in room'), ('thx', 'thanks'), ('hhis', 'hanging head in shame'), ('cyo', 'see you online'), ('u', 'you'), ('lol', 'laugh out loud'), ('cnp', 'continued in my next post'), ('luv', 'love'), ('imnsho', 'in my not so humble opinion'), ('wtf', 'what the fuck'), ('fwiw', \"for what it's worth\"), ('aight', 'alright'), ('sot', 'short of time'), ('ur', 'you are'), ('hagn', 'have a good night'), ('fyi', 'for your information'), ('uw', 'youre welcome'), ('thanx', 'thanks'), ('ru', 'are you'), ('cul8r', 'see you later'), ('ppl', 'people'), ('wb', 'welcome back'), ('lmao', 'laugh my ass off'), ('adn', 'any day now'), ('omg', 'oh my god'), ('cp', 'chat post'), ('m/f', 'male or female'), ('gfn', 'gone for now'), ('afaik', 'as far as I know'), ('a/s/l', 'age, sex, location'), ('gf', 'girlfriend'), ('wtg', 'way to go'), ('cya', 'bye'), ('imo', 'in my opinion'), ('jk', 'just kidding'), ('ym', 'young man'), ('wfm', 'works for me'), ('llta', 'lots and lots of thunderous applause'), ('m8', 'mate'), ('ld', 'later, dude'), ('ga', 'go ahead'), ('hdop', 'help delete online predators'), ('oll', 'onlinelove'), ('cul', 'see you later'), ('afk', 'away from keyboard'), ('b4n', 'bye for now'), ('g2g', 'got to go'), ('121', 'one to one'), ('wibni', \"wouldn't it be nice if\"), ('g', 'grin'), ('b4', 'before'), ('lmirl', \"let's meet in real life\"), ('ipn', 'Im posting naked'), ('cid', 'crying in disgrace'), ('irl', 'in real life'), ('bg', 'big grin'), ('lulab', 'love you like a brother'), ('h8', 'hate'), ('ttyl', 'talk to you later'), ('bff', 'best friends forever'), ('cu', 'see you'), ('iac', 'in any case'), ('gmbo', 'giggling my butt off'), ('bfn', 'bye for now'), ('wtgp', 'want to go private'), ('r', 'are'), ('bta', 'but then again'), ('lulas', 'love you like a sister'), ('alol', 'actually laughing out loud'), ('idk', \"I don't know\"), ('l8r', 'later'), ('shid', 'slaps head in disgust'), ('rofl', 'roll on the floor laughing'), ('iow', 'in other words'), ('fud', 'fear, uncertainty, and doubt'), ('ic', 'I see'), ('otoh', 'on the other hand'), ('ianal', 'I am not a lawyer'), ('ltr', 'longterm relationship'), ('gal', 'get a life'), ('gmta', 'great minds think alike'), ('rpg', 'role playing games'), ('somy', 'sick of me yet'), ('bf', 'boyfriend'), ('imao', 'in my arrogant opinion'), ('bak', 'back at the keyboard')])"
      ]
     },
     "execution_count": 5,
     "metadata": {},
     "output_type": "execute_result"
    }
   ],
   "source": [
    "dicoSlang.items()"
   ]
  },
  {
   "cell_type": "code",
   "execution_count": 6,
   "metadata": {},
   "outputs": [
    {
     "data": {
      "text/html": [
       "<div>\n",
       "<style>\n",
       "    .dataframe thead tr:only-child th {\n",
       "        text-align: right;\n",
       "    }\n",
       "\n",
       "    .dataframe thead th {\n",
       "        text-align: left;\n",
       "    }\n",
       "\n",
       "    .dataframe tbody tr th {\n",
       "        vertical-align: top;\n",
       "    }\n",
       "</style>\n",
       "<table border=\"1\" class=\"dataframe\">\n",
       "  <thead>\n",
       "    <tr style=\"text-align: right;\">\n",
       "      <th></th>\n",
       "      <th>key</th>\n",
       "      <th>value</th>\n",
       "    </tr>\n",
       "  </thead>\n",
       "  <tbody>\n",
       "    <tr>\n",
       "      <th>0</th>\n",
       "      <td>dbau</td>\n",
       "      <td>doing business as usual</td>\n",
       "    </tr>\n",
       "    <tr>\n",
       "      <th>1</th>\n",
       "      <td>btw</td>\n",
       "      <td>by the way</td>\n",
       "    </tr>\n",
       "    <tr>\n",
       "      <th>2</th>\n",
       "      <td>milf</td>\n",
       "      <td>mother I would like to fuck</td>\n",
       "    </tr>\n",
       "    <tr>\n",
       "      <th>3</th>\n",
       "      <td>ldr</td>\n",
       "      <td>longdistancerelationship</td>\n",
       "    </tr>\n",
       "    <tr>\n",
       "      <th>4</th>\n",
       "      <td>pir</td>\n",
       "      <td>parent in room</td>\n",
       "    </tr>\n",
       "  </tbody>\n",
       "</table>\n",
       "</div>"
      ],
      "text/plain": [
       "    key                        value\n",
       "0  dbau      doing business as usual\n",
       "1   btw                   by the way\n",
       "2  milf  mother I would like to fuck\n",
       "3   ldr     longdistancerelationship\n",
       "4   pir               parent in room"
      ]
     },
     "execution_count": 6,
     "metadata": {},
     "output_type": "execute_result"
    }
   ],
   "source": [
    "slang_df = pd.DataFrame.from_dict(dicoSlang, orient='index').reset_index()\n",
    "slang_df.columns = [\"key\", \"value\"]\n",
    "dico_slang = slang_df.to_dict()\n",
    "slang_df.head()"
   ]
  },
  {
   "cell_type": "markdown",
   "metadata": {},
   "source": [
    "### Text treatment and cleaning tweets"
   ]
  },
  {
   "cell_type": "code",
   "execution_count": 7,
   "metadata": {},
   "outputs": [
    {
     "name": "stdout",
     "output_type": "stream",
     "text": [
      "There were 128 @ symbols and 52 #\n"
     ]
    }
   ],
   "source": [
    "count_at = count_hastag = 0\n",
    "\n",
    "def pretreat(tweet):\n",
    "    global count_at , count_hastag\n",
    "    tweet = re.sub(r\"http\\S+\", \"\", tweet)\n",
    "    tweet = TweetTokenizer().tokenize(tweet)\n",
    "    \n",
    "    for word in tweet:\n",
    "        if word[0] == '@':count_at +=1\n",
    "        elif word[0] == '#': count_hastag +=1\n",
    "\n",
    "    tweet = [a.lower() for a in tweet if not (a.startswith(\"#\") or a.startswith(\"@\"))]\n",
    "    return tweet\n",
    "\n",
    "df['tokenized_no_punc'] = df.text.apply(pretreat)\n",
    "print(\"There were {} @ symbols and {} #\".format(count_at, count_hastag))"
   ]
  },
  {
   "cell_type": "code",
   "execution_count": 8,
   "metadata": {
    "collapsed": true
   },
   "outputs": [],
   "source": [
    "def replace_slang(liste):\n",
    "    list_tmp = []\n",
    "\n",
    "    for word in liste:\n",
    "        found = False\n",
    "        for i in range(len(dico_slang[\"value\"])):\n",
    "            cle = dico_slang[\"key\"][i]\n",
    "            if cle == word:\n",
    "                value = nltk.word_tokenize(dico_slang[\"value\"][i])\n",
    "                if isinstance(value, list):\n",
    "                    for word in value:\n",
    "                        list_tmp.append(word)\n",
    "                else:\n",
    "                    list_tmp.append(value)\n",
    "                found = True\n",
    "                break\n",
    "        if not found:\n",
    "              list_tmp.append(word)\n",
    "    \n",
    "    return list_tmp\n",
    "\n",
    "df['content_no_slang'] = df.tokenized_no_punc.apply(replace_slang)"
   ]
  },
  {
   "cell_type": "markdown",
   "metadata": {
    "collapsed": true
   },
   "source": [
    "### POS Tagging"
   ]
  },
  {
   "cell_type": "code",
   "execution_count": 9,
   "metadata": {},
   "outputs": [
    {
     "name": "stdout",
     "output_type": "stream",
     "text": [
      "THERE ARE 1204 VERBS.\n"
     ]
    },
    {
     "data": {
      "text/html": [
       "<div>\n",
       "<style>\n",
       "    .dataframe thead tr:only-child th {\n",
       "        text-align: right;\n",
       "    }\n",
       "\n",
       "    .dataframe thead th {\n",
       "        text-align: left;\n",
       "    }\n",
       "\n",
       "    .dataframe tbody tr th {\n",
       "        vertical-align: top;\n",
       "    }\n",
       "</style>\n",
       "<table border=\"1\" class=\"dataframe\">\n",
       "  <thead>\n",
       "    <tr style=\"text-align: right;\">\n",
       "      <th></th>\n",
       "      <th>popularity</th>\n",
       "      <th>id</th>\n",
       "      <th>date</th>\n",
       "      <th>assiciated_request</th>\n",
       "      <th>user</th>\n",
       "      <th>text</th>\n",
       "      <th>tokenized_no_punc</th>\n",
       "      <th>content_no_slang</th>\n",
       "      <th>pos_tag</th>\n",
       "    </tr>\n",
       "  </thead>\n",
       "  <tbody>\n",
       "    <tr>\n",
       "      <th>0</th>\n",
       "      <td>4</td>\n",
       "      <td>3</td>\n",
       "      <td>Mon May 11 03:17:40 UTC 2009</td>\n",
       "      <td>kindle2</td>\n",
       "      <td>tpryan</td>\n",
       "      <td>@stellargirl I loooooooovvvvvveee my Kindle2. ...</td>\n",
       "      <td>[i, loooooooovvvvvveee, my, kindle, 2, ., not,...</td>\n",
       "      <td>[i, loooooooovvvvvveee, my, kindle, 2, ., not,...</td>\n",
       "      <td>[(i, NN), (loooooooovvvvvveee, VBP), (my, PRP$...</td>\n",
       "    </tr>\n",
       "    <tr>\n",
       "      <th>1</th>\n",
       "      <td>4</td>\n",
       "      <td>4</td>\n",
       "      <td>Mon May 11 03:18:03 UTC 2009</td>\n",
       "      <td>kindle2</td>\n",
       "      <td>vcu451</td>\n",
       "      <td>Reading my kindle2...  Love it... Lee childs i...</td>\n",
       "      <td>[reading, my, kindle, 2, ..., love, it, ..., l...</td>\n",
       "      <td>[reading, my, kindle, 2, ..., love, it, ..., l...</td>\n",
       "      <td>[(reading, VBG), (my, PRP$), (kindle, NN), (2,...</td>\n",
       "    </tr>\n",
       "    <tr>\n",
       "      <th>2</th>\n",
       "      <td>4</td>\n",
       "      <td>5</td>\n",
       "      <td>Mon May 11 03:18:54 UTC 2009</td>\n",
       "      <td>kindle2</td>\n",
       "      <td>chadfu</td>\n",
       "      <td>Ok, first assesment of the #kindle2 ...it fuck...</td>\n",
       "      <td>[ok, ,, first, assesment, of, the, ..., it, fu...</td>\n",
       "      <td>[ok, ,, first, assesment, of, the, ..., it, fu...</td>\n",
       "      <td>[(ok, NN), (,, ,), (first, JJ), (assesment, NN...</td>\n",
       "    </tr>\n",
       "    <tr>\n",
       "      <th>3</th>\n",
       "      <td>4</td>\n",
       "      <td>6</td>\n",
       "      <td>Mon May 11 03:19:04 UTC 2009</td>\n",
       "      <td>kindle2</td>\n",
       "      <td>SIX15</td>\n",
       "      <td>@kenburbary You'll love your Kindle2. I've had...</td>\n",
       "      <td>[you'll, love, your, kindle, 2, ., i've, had, ...</td>\n",
       "      <td>[you'll, love, your, kindle, 2, ., i've, had, ...</td>\n",
       "      <td>[(you'll, NNS), (love, VB), (your, PRP$), (kin...</td>\n",
       "    </tr>\n",
       "    <tr>\n",
       "      <th>4</th>\n",
       "      <td>4</td>\n",
       "      <td>7</td>\n",
       "      <td>Mon May 11 03:21:41 UTC 2009</td>\n",
       "      <td>kindle2</td>\n",
       "      <td>yamarama</td>\n",
       "      <td>@mikefish  Fair enough. But i have the Kindle2...</td>\n",
       "      <td>[fair, enough, ., but, i, have, the, kindle, 2...</td>\n",
       "      <td>[fair, enough, ., but, i, have, the, kindle, 2...</td>\n",
       "      <td>[(fair, JJ), (enough, RB), (., .), (but, CC), ...</td>\n",
       "    </tr>\n",
       "  </tbody>\n",
       "</table>\n",
       "</div>"
      ],
      "text/plain": [
       "   popularity  id                          date assiciated_request      user  \\\n",
       "0           4   3  Mon May 11 03:17:40 UTC 2009            kindle2    tpryan   \n",
       "1           4   4  Mon May 11 03:18:03 UTC 2009            kindle2    vcu451   \n",
       "2           4   5  Mon May 11 03:18:54 UTC 2009            kindle2    chadfu   \n",
       "3           4   6  Mon May 11 03:19:04 UTC 2009            kindle2     SIX15   \n",
       "4           4   7  Mon May 11 03:21:41 UTC 2009            kindle2  yamarama   \n",
       "\n",
       "                                                text  \\\n",
       "0  @stellargirl I loooooooovvvvvveee my Kindle2. ...   \n",
       "1  Reading my kindle2...  Love it... Lee childs i...   \n",
       "2  Ok, first assesment of the #kindle2 ...it fuck...   \n",
       "3  @kenburbary You'll love your Kindle2. I've had...   \n",
       "4  @mikefish  Fair enough. But i have the Kindle2...   \n",
       "\n",
       "                                   tokenized_no_punc  \\\n",
       "0  [i, loooooooovvvvvveee, my, kindle, 2, ., not,...   \n",
       "1  [reading, my, kindle, 2, ..., love, it, ..., l...   \n",
       "2  [ok, ,, first, assesment, of, the, ..., it, fu...   \n",
       "3  [you'll, love, your, kindle, 2, ., i've, had, ...   \n",
       "4  [fair, enough, ., but, i, have, the, kindle, 2...   \n",
       "\n",
       "                                    content_no_slang  \\\n",
       "0  [i, loooooooovvvvvveee, my, kindle, 2, ., not,...   \n",
       "1  [reading, my, kindle, 2, ..., love, it, ..., l...   \n",
       "2  [ok, ,, first, assesment, of, the, ..., it, fu...   \n",
       "3  [you'll, love, your, kindle, 2, ., i've, had, ...   \n",
       "4  [fair, enough, ., but, i, have, the, kindle, 2...   \n",
       "\n",
       "                                             pos_tag  \n",
       "0  [(i, NN), (loooooooovvvvvveee, VBP), (my, PRP$...  \n",
       "1  [(reading, VBG), (my, PRP$), (kindle, NN), (2,...  \n",
       "2  [(ok, NN), (,, ,), (first, JJ), (assesment, NN...  \n",
       "3  [(you'll, NNS), (love, VB), (your, PRP$), (kin...  \n",
       "4  [(fair, JJ), (enough, RB), (., .), (but, CC), ...  "
      ]
     },
     "execution_count": 9,
     "metadata": {},
     "output_type": "execute_result"
    }
   ],
   "source": [
    "verb_counts = 0\n",
    "\n",
    "def pos_tag(embeded_list):\n",
    "    global verb_counts\n",
    "    result = nltk.pos_tag(embeded_list)\n",
    "    for word, tag in result:\n",
    "        if tag.startswith(\"VB\") or tag == \"MD\":\n",
    "            verb_counts += 1\n",
    "    return  result\n",
    "\n",
    "df['pos_tag'] = df.content_no_slang.apply(pos_tag)\n",
    "\n",
    "print (\"THERE ARE {} VERBS.\".format(verb_counts))\n",
    "\n",
    "df.head()"
   ]
  },
  {
   "cell_type": "markdown",
   "metadata": {},
   "source": [
    "### Sentiment analysis"
   ]
  },
  {
   "cell_type": "code",
   "execution_count": 10,
   "metadata": {
    "collapsed": true
   },
   "outputs": [],
   "source": [
    "from nltk.corpus import wordnet as wn\n",
    "from nltk.corpus.reader.sentiwordnet import SentiWordNetCorpusReader, SentiSynset\n",
    "swn = SentiWordNetCorpusReader('./','SentiWordNet_3.0.0_20130122.txt')"
   ]
  },
  {
   "cell_type": "code",
   "execution_count": 37,
   "metadata": {},
   "outputs": [
    {
     "data": {
      "text/plain": [
       "SentiSynset('breakdown.n.03')"
      ]
     },
     "execution_count": 37,
     "metadata": {},
     "output_type": "execute_result"
    }
   ],
   "source": [
    "# Test of swn\n",
    "swn.senti_synset('breakdown.n.03')"
   ]
  },
  {
   "cell_type": "markdown",
   "metadata": {},
   "source": [
    "### Before methods, a function for ploting results"
   ]
  },
  {
   "cell_type": "code",
   "execution_count": 39,
   "metadata": {
    "collapsed": true
   },
   "outputs": [],
   "source": [
    "def plot_results(y_pred):\n",
    "    cnf_matrix = confusion_matrix(df.popularity.values, df[y_pred].values)\n",
    "    cnf_matrix_df = pd.DataFrame(cnf_matrix,columns=[\"negative\", \"neutral\", \"positive\"])\n",
    "    cnf_matrix_df.set_index([\"negative\", \"neutral\", \"positive\"])\n",
    "\n",
    "    plt.figure()\n",
    "    sns.heatmap(cnf_matrix_df,annot=True)\n",
    "    plt.show()\n",
    "    \n",
    "    print(classification_report(df.popularity.values, df[y_pred].values, target_names=[\"negative\", \"neutral\", \"positive\"]))"
   ]
  },
  {
   "cell_type": "markdown",
   "metadata": {},
   "source": [
    "### Algorithm 1 - sentiwordnet dictionnary"
   ]
  },
  {
   "cell_type": "code",
   "execution_count": 40,
   "metadata": {
    "collapsed": true
   },
   "outputs": [],
   "source": [
    "def get_score(pos_tag_list):\n",
    "    my_synsets = []\n",
    "    positive_sum = 0\n",
    "    negative_sum = 0\n",
    "    synset = None\n",
    "    \n",
    "    for pos_tag in pos_tag_list:\n",
    "        \n",
    "        if  pos_tag[1].startswith(\"VB\"): \n",
    "            synset = wn.synsets(pos_tag[0], pos='v')\n",
    "        elif pos_tag[1] == \"JJ\" :\n",
    "            synset = wn.synsets(pos_tag[0], pos=\"a\")\n",
    "        elif pos_tag[1] == \"ADV\" :\n",
    "            synset = wn.synsets(pos_tag[0], pos=\"r\")\n",
    "        elif pos_tag[1].startswith(\"N\"):\n",
    "            synset = wn.synsets(pos_tag[0], pos=\"n\")\n",
    "        \n",
    "        if synset and len(synset) > 1:\n",
    "                my_synsets.append(synset[0])\n",
    "    \n",
    "    for x in my_synsets:\n",
    "        res = swn.senti_synset(x.name())\n",
    "        if res is not None :\n",
    "            positive_sum = positive_sum + res.pos_score()\n",
    "            negative_sum = negative_sum + res.neg_score()\n",
    "    \n",
    "    return positive_sum if positive_sum >= negative_sum else -negative_sum"
   ]
  },
  {
   "cell_type": "code",
   "execution_count": 41,
   "metadata": {
    "collapsed": true
   },
   "outputs": [],
   "source": [
    "def classify_tweet(score):\n",
    "    return 0 if score < 0 else 4"
   ]
  },
  {
   "cell_type": "code",
   "execution_count": 42,
   "metadata": {},
   "outputs": [
    {
     "data": {
      "text/html": [
       "<div>\n",
       "<style>\n",
       "    .dataframe thead tr:only-child th {\n",
       "        text-align: right;\n",
       "    }\n",
       "\n",
       "    .dataframe thead th {\n",
       "        text-align: left;\n",
       "    }\n",
       "\n",
       "    .dataframe tbody tr th {\n",
       "        vertical-align: top;\n",
       "    }\n",
       "</style>\n",
       "<table border=\"1\" class=\"dataframe\">\n",
       "  <thead>\n",
       "    <tr style=\"text-align: right;\">\n",
       "      <th></th>\n",
       "      <th>popularity</th>\n",
       "      <th>id</th>\n",
       "      <th>date</th>\n",
       "      <th>assiciated_request</th>\n",
       "      <th>user</th>\n",
       "      <th>text</th>\n",
       "      <th>tokenized_no_punc</th>\n",
       "      <th>content_no_slang</th>\n",
       "      <th>pos_tag</th>\n",
       "      <th>score_1</th>\n",
       "      <th>alg_popularity_1</th>\n",
       "      <th>score_2</th>\n",
       "      <th>alg_popularity_no_neutral_2</th>\n",
       "      <th>alg_popularity_2</th>\n",
       "      <th>score_3</th>\n",
       "      <th>alg_popularity_3</th>\n",
       "    </tr>\n",
       "  </thead>\n",
       "  <tbody>\n",
       "    <tr>\n",
       "      <th>0</th>\n",
       "      <td>4</td>\n",
       "      <td>3</td>\n",
       "      <td>Mon May 11 03:17:40 UTC 2009</td>\n",
       "      <td>kindle2</td>\n",
       "      <td>tpryan</td>\n",
       "      <td>@stellargirl I loooooooovvvvvveee my Kindle2. ...</td>\n",
       "      <td>[i, loooooooovvvvvveee, my, kindle, 2, ., not,...</td>\n",
       "      <td>[i, loooooooovvvvvveee, my, kindle, 2, ., not,...</td>\n",
       "      <td>[(i, NN), (loooooooovvvvvveee, VBP), (my, PRP$...</td>\n",
       "      <td>2.875</td>\n",
       "      <td>4</td>\n",
       "      <td>2.875</td>\n",
       "      <td>4</td>\n",
       "      <td>4</td>\n",
       "      <td>2.875</td>\n",
       "      <td>4</td>\n",
       "    </tr>\n",
       "    <tr>\n",
       "      <th>1</th>\n",
       "      <td>4</td>\n",
       "      <td>4</td>\n",
       "      <td>Mon May 11 03:18:03 UTC 2009</td>\n",
       "      <td>kindle2</td>\n",
       "      <td>vcu451</td>\n",
       "      <td>Reading my kindle2...  Love it... Lee childs i...</td>\n",
       "      <td>[reading, my, kindle, 2, ..., love, it, ..., l...</td>\n",
       "      <td>[reading, my, kindle, 2, ..., love, it, ..., l...</td>\n",
       "      <td>[(reading, VBG), (my, PRP$), (kindle, NN), (2,...</td>\n",
       "      <td>2.875</td>\n",
       "      <td>4</td>\n",
       "      <td>2.875</td>\n",
       "      <td>4</td>\n",
       "      <td>4</td>\n",
       "      <td>2.875</td>\n",
       "      <td>4</td>\n",
       "    </tr>\n",
       "    <tr>\n",
       "      <th>2</th>\n",
       "      <td>4</td>\n",
       "      <td>5</td>\n",
       "      <td>Mon May 11 03:18:54 UTC 2009</td>\n",
       "      <td>kindle2</td>\n",
       "      <td>chadfu</td>\n",
       "      <td>Ok, first assesment of the #kindle2 ...it fuck...</td>\n",
       "      <td>[ok, ,, first, assesment, of, the, ..., it, fu...</td>\n",
       "      <td>[ok, ,, first, assesment, of, the, ..., it, fu...</td>\n",
       "      <td>[(ok, NN), (,, ,), (first, JJ), (assesment, NN...</td>\n",
       "      <td>0.000</td>\n",
       "      <td>4</td>\n",
       "      <td>0.000</td>\n",
       "      <td>4</td>\n",
       "      <td>2</td>\n",
       "      <td>0.000</td>\n",
       "      <td>2</td>\n",
       "    </tr>\n",
       "    <tr>\n",
       "      <th>3</th>\n",
       "      <td>4</td>\n",
       "      <td>6</td>\n",
       "      <td>Mon May 11 03:19:04 UTC 2009</td>\n",
       "      <td>kindle2</td>\n",
       "      <td>SIX15</td>\n",
       "      <td>@kenburbary You'll love your Kindle2. I've had...</td>\n",
       "      <td>[you'll, love, your, kindle, 2, ., i've, had, ...</td>\n",
       "      <td>[you'll, love, your, kindle, 2, ., i've, had, ...</td>\n",
       "      <td>[(you'll, NNS), (love, VB), (your, PRP$), (kin...</td>\n",
       "      <td>2.375</td>\n",
       "      <td>4</td>\n",
       "      <td>2.375</td>\n",
       "      <td>4</td>\n",
       "      <td>4</td>\n",
       "      <td>21.375</td>\n",
       "      <td>4</td>\n",
       "    </tr>\n",
       "    <tr>\n",
       "      <th>4</th>\n",
       "      <td>4</td>\n",
       "      <td>7</td>\n",
       "      <td>Mon May 11 03:21:41 UTC 2009</td>\n",
       "      <td>kindle2</td>\n",
       "      <td>yamarama</td>\n",
       "      <td>@mikefish  Fair enough. But i have the Kindle2...</td>\n",
       "      <td>[fair, enough, ., but, i, have, the, kindle, 2...</td>\n",
       "      <td>[fair, enough, ., but, i, have, the, kindle, 2...</td>\n",
       "      <td>[(fair, JJ), (enough, RB), (., .), (but, CC), ...</td>\n",
       "      <td>3.000</td>\n",
       "      <td>4</td>\n",
       "      <td>3.000</td>\n",
       "      <td>4</td>\n",
       "      <td>4</td>\n",
       "      <td>11.000</td>\n",
       "      <td>4</td>\n",
       "    </tr>\n",
       "  </tbody>\n",
       "</table>\n",
       "</div>"
      ],
      "text/plain": [
       "   popularity  id                          date assiciated_request      user  \\\n",
       "0           4   3  Mon May 11 03:17:40 UTC 2009            kindle2    tpryan   \n",
       "1           4   4  Mon May 11 03:18:03 UTC 2009            kindle2    vcu451   \n",
       "2           4   5  Mon May 11 03:18:54 UTC 2009            kindle2    chadfu   \n",
       "3           4   6  Mon May 11 03:19:04 UTC 2009            kindle2     SIX15   \n",
       "4           4   7  Mon May 11 03:21:41 UTC 2009            kindle2  yamarama   \n",
       "\n",
       "                                                text  \\\n",
       "0  @stellargirl I loooooooovvvvvveee my Kindle2. ...   \n",
       "1  Reading my kindle2...  Love it... Lee childs i...   \n",
       "2  Ok, first assesment of the #kindle2 ...it fuck...   \n",
       "3  @kenburbary You'll love your Kindle2. I've had...   \n",
       "4  @mikefish  Fair enough. But i have the Kindle2...   \n",
       "\n",
       "                                   tokenized_no_punc  \\\n",
       "0  [i, loooooooovvvvvveee, my, kindle, 2, ., not,...   \n",
       "1  [reading, my, kindle, 2, ..., love, it, ..., l...   \n",
       "2  [ok, ,, first, assesment, of, the, ..., it, fu...   \n",
       "3  [you'll, love, your, kindle, 2, ., i've, had, ...   \n",
       "4  [fair, enough, ., but, i, have, the, kindle, 2...   \n",
       "\n",
       "                                    content_no_slang  \\\n",
       "0  [i, loooooooovvvvvveee, my, kindle, 2, ., not,...   \n",
       "1  [reading, my, kindle, 2, ..., love, it, ..., l...   \n",
       "2  [ok, ,, first, assesment, of, the, ..., it, fu...   \n",
       "3  [you'll, love, your, kindle, 2, ., i've, had, ...   \n",
       "4  [fair, enough, ., but, i, have, the, kindle, 2...   \n",
       "\n",
       "                                             pos_tag  score_1  \\\n",
       "0  [(i, NN), (loooooooovvvvvveee, VBP), (my, PRP$...    2.875   \n",
       "1  [(reading, VBG), (my, PRP$), (kindle, NN), (2,...    2.875   \n",
       "2  [(ok, NN), (,, ,), (first, JJ), (assesment, NN...    0.000   \n",
       "3  [(you'll, NNS), (love, VB), (your, PRP$), (kin...    2.375   \n",
       "4  [(fair, JJ), (enough, RB), (., .), (but, CC), ...    3.000   \n",
       "\n",
       "   alg_popularity_1  score_2  alg_popularity_no_neutral_2  alg_popularity_2  \\\n",
       "0                 4    2.875                            4                 4   \n",
       "1                 4    2.875                            4                 4   \n",
       "2                 4    0.000                            4                 2   \n",
       "3                 4    2.375                            4                 4   \n",
       "4                 4    3.000                            4                 4   \n",
       "\n",
       "   score_3  alg_popularity_3  \n",
       "0    2.875                 4  \n",
       "1    2.875                 4  \n",
       "2    0.000                 2  \n",
       "3   21.375                 4  \n",
       "4   11.000                 4  "
      ]
     },
     "execution_count": 42,
     "metadata": {},
     "output_type": "execute_result"
    }
   ],
   "source": [
    "df['score_1'] = df.pos_tag.apply(get_score)\n",
    "df[\"alg_popularity_1\"] = df['score_1'].apply(classify_tweet)\n",
    "df.head(5)"
   ]
  },
  {
   "cell_type": "code",
   "execution_count": 43,
   "metadata": {},
   "outputs": [
    {
     "data": {
      "image/png": "[encoded data removed]",
      "text/plain": [
       "<matplotlib.figure.Figure at 0x11290d0b8>"
      ]
     },
     "metadata": {},
     "output_type": "display_data"
    },
    {
     "name": "stdout",
     "output_type": "stream",
     "text": [
      "             precision    recall  f1-score   support\n",
      "\n",
      "   negative       0.61      0.31      0.41       177\n",
      "    neutral       0.00      0.00      0.00       139\n",
      "   positive       0.41      0.91      0.56       182\n",
      "\n",
      "avg / total       0.37      0.44      0.35       498\n",
      "\n"
     ]
    }
   ],
   "source": [
    "plot_results(\"alg_popularity_1\")    "
   ]
  },
  {
   "cell_type": "markdown",
   "metadata": {},
   "source": [
    "### Algorithm of detection v2 - negations and modifiers"
   ]
  },
  {
   "cell_type": "code",
   "execution_count": 18,
   "metadata": {
    "collapsed": true
   },
   "outputs": [],
   "source": [
    "path_negation = \"NegatingWordList.txt\"\n",
    "negations_df =  pd.read_csv(path_negation, header=None, names = [\"negation\"], sep =\"\\n\")\n",
    "negation_list = list(negations_df.values.ravel())\n",
    "\n",
    "path_booster = \"BoosterWordList.txt\"\n",
    "booster_df =  pd.read_csv(path_booster, header=None, names = [\"booster\", \"valence\"], sep =\"\\t\")\n",
    "booster_list = list(booster_df.booster.values)"
   ]
  },
  {
   "cell_type": "code",
   "execution_count": 19,
   "metadata": {},
   "outputs": [
    {
     "data": {
      "text/html": [
       "<div>\n",
       "<style>\n",
       "    .dataframe thead tr:only-child th {\n",
       "        text-align: right;\n",
       "    }\n",
       "\n",
       "    .dataframe thead th {\n",
       "        text-align: left;\n",
       "    }\n",
       "\n",
       "    .dataframe tbody tr th {\n",
       "        vertical-align: top;\n",
       "    }\n",
       "</style>\n",
       "<table border=\"1\" class=\"dataframe\">\n",
       "  <thead>\n",
       "    <tr style=\"text-align: right;\">\n",
       "      <th></th>\n",
       "      <th>negation</th>\n",
       "    </tr>\n",
       "  </thead>\n",
       "  <tbody>\n",
       "    <tr>\n",
       "      <th>0</th>\n",
       "      <td>aren't</td>\n",
       "    </tr>\n",
       "    <tr>\n",
       "      <th>1</th>\n",
       "      <td>arent</td>\n",
       "    </tr>\n",
       "    <tr>\n",
       "      <th>2</th>\n",
       "      <td>can't</td>\n",
       "    </tr>\n",
       "    <tr>\n",
       "      <th>3</th>\n",
       "      <td>cannot</td>\n",
       "    </tr>\n",
       "    <tr>\n",
       "      <th>4</th>\n",
       "      <td>cant</td>\n",
       "    </tr>\n",
       "  </tbody>\n",
       "</table>\n",
       "</div>"
      ],
      "text/plain": [
       "  negation\n",
       "0   aren't\n",
       "1    arent\n",
       "2    can't\n",
       "3   cannot\n",
       "4     cant"
      ]
     },
     "execution_count": 19,
     "metadata": {},
     "output_type": "execute_result"
    }
   ],
   "source": [
    "negations_df.head(5)"
   ]
  },
  {
   "cell_type": "code",
   "execution_count": 20,
   "metadata": {},
   "outputs": [
    {
     "data": {
      "text/html": [
       "<div>\n",
       "<style>\n",
       "    .dataframe thead tr:only-child th {\n",
       "        text-align: right;\n",
       "    }\n",
       "\n",
       "    .dataframe thead th {\n",
       "        text-align: left;\n",
       "    }\n",
       "\n",
       "    .dataframe tbody tr th {\n",
       "        vertical-align: top;\n",
       "    }\n",
       "</style>\n",
       "<table border=\"1\" class=\"dataframe\">\n",
       "  <thead>\n",
       "    <tr style=\"text-align: right;\">\n",
       "      <th></th>\n",
       "      <th>booster</th>\n",
       "      <th>valence</th>\n",
       "    </tr>\n",
       "  </thead>\n",
       "  <tbody>\n",
       "    <tr>\n",
       "      <th>0</th>\n",
       "      <td>absolutely</td>\n",
       "      <td>1</td>\n",
       "    </tr>\n",
       "    <tr>\n",
       "      <th>1</th>\n",
       "      <td>definitely</td>\n",
       "      <td>1</td>\n",
       "    </tr>\n",
       "    <tr>\n",
       "      <th>2</th>\n",
       "      <td>extremely</td>\n",
       "      <td>2</td>\n",
       "    </tr>\n",
       "    <tr>\n",
       "      <th>3</th>\n",
       "      <td>fuckin</td>\n",
       "      <td>2</td>\n",
       "    </tr>\n",
       "    <tr>\n",
       "      <th>4</th>\n",
       "      <td>fucking</td>\n",
       "      <td>2</td>\n",
       "    </tr>\n",
       "  </tbody>\n",
       "</table>\n",
       "</div>"
      ],
      "text/plain": [
       "      booster  valence\n",
       "0  absolutely        1\n",
       "1  definitely        1\n",
       "2   extremely        2\n",
       "3      fuckin        2\n",
       "4     fucking        2"
      ]
     },
     "execution_count": 20,
     "metadata": {},
     "output_type": "execute_result"
    }
   ],
   "source": [
    "booster_df.head(5)"
   ]
  },
  {
   "cell_type": "code",
   "execution_count": 21,
   "metadata": {
    "collapsed": true
   },
   "outputs": [],
   "source": [
    "def get_score2(pos_tag_list):\n",
    "    my_synsets = []\n",
    "    positive_sum = 0\n",
    "    negative_sum = 0\n",
    "    synset = None\n",
    "    \n",
    "    for  idx  in range(len(pos_tag_list)):\n",
    "        pos_tag = pos_tag_list[idx]\n",
    "        \n",
    "        if  pos_tag[1].startswith(\"VB\"): \n",
    "            synset = wn.synsets(pos_tag[0], pos='v')\n",
    "        elif pos_tag[1] == \"JJ\" :\n",
    "            synset = wn.synsets(pos_tag[0], pos=\"a\")\n",
    "        elif pos_tag[1] == \"ADV\" :\n",
    "            synset = wn.synsets(pos_tag[0], pos=\"r\")\n",
    "        elif pos_tag[1].startswith(\"N\"):\n",
    "            synset = wn.synsets(pos_tag[0], pos=\"n\")\n",
    "        \n",
    "        previous_word = pos_tag_list[idx-1][0] if idx > 0 else \"\"\n",
    "        \n",
    "        if synset and len(synset) > 1:\n",
    "            my_synsets.append((synset[0], previous_word))\n",
    "    \n",
    "    for idx in range(len(my_synsets)):\n",
    "        current_synset = my_synsets[idx][0]\n",
    "        previous_word = my_synsets[idx][1]\n",
    "        result = swn.senti_synset(current_synset.name())\n",
    "        \n",
    "        follows_booster = True if previous_word.lower() in booster_list else False\n",
    "        follows_negation = True if previous_word.lower() in negation_list else False\n",
    "        \n",
    "        multiplier = 2 if follows_booster else 1\n",
    "        if result is not None :\n",
    "            positive_sum += multiplier * result.pos_score() if not follows_negation else result.neg_score()\n",
    "            negative_sum += multiplier * result.neg_score() if not follows_negation else result.pos_score()\n",
    "    \n",
    "    return positive_sum if positive_sum >= negative_sum else -negative_sum"
   ]
  },
  {
   "cell_type": "code",
   "execution_count": 22,
   "metadata": {
    "collapsed": true
   },
   "outputs": [],
   "source": [
    "def classify_tweet_2(score):\n",
    "    sentiment =  2 \n",
    "    if score < -0.25 : sentiment = 0\n",
    "    if score > 0.25 : sentiment = 4 \n",
    "    return sentiment"
   ]
  },
  {
   "cell_type": "code",
   "execution_count": 23,
   "metadata": {},
   "outputs": [
    {
     "data": {
      "text/html": [
       "<div>\n",
       "<style>\n",
       "    .dataframe thead tr:only-child th {\n",
       "        text-align: right;\n",
       "    }\n",
       "\n",
       "    .dataframe thead th {\n",
       "        text-align: left;\n",
       "    }\n",
       "\n",
       "    .dataframe tbody tr th {\n",
       "        vertical-align: top;\n",
       "    }\n",
       "</style>\n",
       "<table border=\"1\" class=\"dataframe\">\n",
       "  <thead>\n",
       "    <tr style=\"text-align: right;\">\n",
       "      <th></th>\n",
       "      <th>popularity</th>\n",
       "      <th>id</th>\n",
       "      <th>date</th>\n",
       "      <th>assiciated_request</th>\n",
       "      <th>user</th>\n",
       "      <th>text</th>\n",
       "      <th>tokenized_no_punc</th>\n",
       "      <th>content_no_slang</th>\n",
       "      <th>pos_tag</th>\n",
       "      <th>score_1</th>\n",
       "      <th>alg_popularity_1</th>\n",
       "      <th>score_2</th>\n",
       "      <th>alg_popularity_no_neutral_2</th>\n",
       "      <th>alg_popularity_2</th>\n",
       "    </tr>\n",
       "  </thead>\n",
       "  <tbody>\n",
       "    <tr>\n",
       "      <th>0</th>\n",
       "      <td>4</td>\n",
       "      <td>3</td>\n",
       "      <td>Mon May 11 03:17:40 UTC 2009</td>\n",
       "      <td>kindle2</td>\n",
       "      <td>tpryan</td>\n",
       "      <td>@stellargirl I loooooooovvvvvveee my Kindle2. ...</td>\n",
       "      <td>[i, loooooooovvvvvveee, my, kindle, 2, ., not,...</td>\n",
       "      <td>[i, loooooooovvvvvveee, my, kindle, 2, ., not,...</td>\n",
       "      <td>[(i, NN), (loooooooovvvvvveee, VBP), (my, PRP$...</td>\n",
       "      <td>2.875</td>\n",
       "      <td>4</td>\n",
       "      <td>2.875</td>\n",
       "      <td>4</td>\n",
       "      <td>4</td>\n",
       "    </tr>\n",
       "    <tr>\n",
       "      <th>1</th>\n",
       "      <td>4</td>\n",
       "      <td>4</td>\n",
       "      <td>Mon May 11 03:18:03 UTC 2009</td>\n",
       "      <td>kindle2</td>\n",
       "      <td>vcu451</td>\n",
       "      <td>Reading my kindle2...  Love it... Lee childs i...</td>\n",
       "      <td>[reading, my, kindle, 2, ..., love, it, ..., l...</td>\n",
       "      <td>[reading, my, kindle, 2, ..., love, it, ..., l...</td>\n",
       "      <td>[(reading, VBG), (my, PRP$), (kindle, NN), (2,...</td>\n",
       "      <td>2.875</td>\n",
       "      <td>4</td>\n",
       "      <td>2.875</td>\n",
       "      <td>4</td>\n",
       "      <td>4</td>\n",
       "    </tr>\n",
       "    <tr>\n",
       "      <th>2</th>\n",
       "      <td>4</td>\n",
       "      <td>5</td>\n",
       "      <td>Mon May 11 03:18:54 UTC 2009</td>\n",
       "      <td>kindle2</td>\n",
       "      <td>chadfu</td>\n",
       "      <td>Ok, first assesment of the #kindle2 ...it fuck...</td>\n",
       "      <td>[ok, ,, first, assesment, of, the, ..., it, fu...</td>\n",
       "      <td>[ok, ,, first, assesment, of, the, ..., it, fu...</td>\n",
       "      <td>[(ok, NN), (,, ,), (first, JJ), (assesment, NN...</td>\n",
       "      <td>0.000</td>\n",
       "      <td>4</td>\n",
       "      <td>0.000</td>\n",
       "      <td>4</td>\n",
       "      <td>2</td>\n",
       "    </tr>\n",
       "  </tbody>\n",
       "</table>\n",
       "</div>"
      ],
      "text/plain": [
       "   popularity  id                          date assiciated_request    user  \\\n",
       "0           4   3  Mon May 11 03:17:40 UTC 2009            kindle2  tpryan   \n",
       "1           4   4  Mon May 11 03:18:03 UTC 2009            kindle2  vcu451   \n",
       "2           4   5  Mon May 11 03:18:54 UTC 2009            kindle2  chadfu   \n",
       "\n",
       "                                                text  \\\n",
       "0  @stellargirl I loooooooovvvvvveee my Kindle2. ...   \n",
       "1  Reading my kindle2...  Love it... Lee childs i...   \n",
       "2  Ok, first assesment of the #kindle2 ...it fuck...   \n",
       "\n",
       "                                   tokenized_no_punc  \\\n",
       "0  [i, loooooooovvvvvveee, my, kindle, 2, ., not,...   \n",
       "1  [reading, my, kindle, 2, ..., love, it, ..., l...   \n",
       "2  [ok, ,, first, assesment, of, the, ..., it, fu...   \n",
       "\n",
       "                                    content_no_slang  \\\n",
       "0  [i, loooooooovvvvvveee, my, kindle, 2, ., not,...   \n",
       "1  [reading, my, kindle, 2, ..., love, it, ..., l...   \n",
       "2  [ok, ,, first, assesment, of, the, ..., it, fu...   \n",
       "\n",
       "                                             pos_tag  score_1  \\\n",
       "0  [(i, NN), (loooooooovvvvvveee, VBP), (my, PRP$...    2.875   \n",
       "1  [(reading, VBG), (my, PRP$), (kindle, NN), (2,...    2.875   \n",
       "2  [(ok, NN), (,, ,), (first, JJ), (assesment, NN...    0.000   \n",
       "\n",
       "   alg_popularity_1  score_2  alg_popularity_no_neutral_2  alg_popularity_2  \n",
       "0                 4    2.875                            4                 4  \n",
       "1                 4    2.875                            4                 4  \n",
       "2                 4    0.000                            4                 2  "
      ]
     },
     "execution_count": 23,
     "metadata": {},
     "output_type": "execute_result"
    }
   ],
   "source": [
    "df['score_2'] = df.pos_tag.apply(get_score2)\n",
    "df[\"alg_popularity_no_neutral_2\"] = df['score_2'].apply(classify_tweet)\n",
    "df[\"alg_popularity_2\"] = df['score_2'].apply(classify_tweet_2)\n",
    "\n",
    "df.head(3)"
   ]
  },
  {
   "cell_type": "code",
   "execution_count": 36,
   "metadata": {},
   "outputs": [
    {
     "data": {
      "image/png": "[encoded data removed]",
      "text/plain": [
       "<matplotlib.figure.Figure at 0x1214747f0>"
      ]
     },
     "metadata": {},
     "output_type": "display_data"
    },
    {
     "name": "stdout",
     "output_type": "stream",
     "text": [
      "             precision    recall  f1-score   support\n",
      "\n",
      "   negative       0.66      0.29      0.41       177\n",
      "    neutral       0.50      0.54      0.52       139\n",
      "   positive       0.50      0.74      0.59       182\n",
      "\n",
      "avg / total       0.56      0.52      0.51       498\n",
      "\n"
     ]
    }
   ],
   "source": [
    "plot_results(\"alg_popularity_2\")    "
   ]
  },
  {
   "cell_type": "markdown",
   "metadata": {},
   "source": [
    "### Algorithm of detection v3 - emoticons"
   ]
  },
  {
   "cell_type": "code",
   "execution_count": 25,
   "metadata": {
    "collapsed": true
   },
   "outputs": [],
   "source": [
    "path_emoticon = \"EmoticonLookupTable.txt\"\n",
    "emoticon_df =  pd.read_csv(path_emoticon, header=None, names = [\"smiley\", \"valence\"], sep =\"\\t\")\n",
    "emoticon_list = list(emoticon_df.smiley.values.ravel())\n",
    "\n",
    "positive_emoticons = list(emoticon_df[emoticon_df.valence == 1].smiley.values)\n",
    "negative_emoticons = list(emoticon_df[emoticon_df.valence == -1].smiley.values)"
   ]
  },
  {
   "cell_type": "code",
   "execution_count": 26,
   "metadata": {
    "collapsed": true
   },
   "outputs": [],
   "source": [
    "def get_score3(pos_tag_list, **kwargs):\n",
    "        \n",
    "    my_synsets = []\n",
    "    positive_sum = 0\n",
    "    negative_sum = 0\n",
    "    synset = None\n",
    "    bonus_positive_emoticon = 0\n",
    "    bonus_negative_emoticon = 0\n",
    "    \n",
    "    for  idx  in range(len(pos_tag_list)):\n",
    "        pos_tag = pos_tag_list[idx]\n",
    "        \n",
    "        if  pos_tag[1].startswith(\"VB\"): \n",
    "            synset = wn.synsets(pos_tag[0], pos='v')\n",
    "        elif pos_tag[1] == \"JJ\" :\n",
    "            synset = wn.synsets(pos_tag[0], pos=\"a\")\n",
    "        elif pos_tag[1] == \"ADV\" :\n",
    "            synset = wn.synsets(pos_tag[0], pos=\"r\")\n",
    "        elif pos_tag[1].startswith(\"N\"):\n",
    "            synset = wn.synsets(pos_tag[0], pos=\"n\")\n",
    "        \n",
    "        previous_word = pos_tag_list[idx-1][0] if idx > 0 else \"\"\n",
    "        \n",
    "        if pos_tag[0] in kwargs[\"positive_emoticons\"]:\n",
    "            bonus_positive_emoticon += 1\n",
    "        if pos_tag[0] in kwargs[\"negative_emoticons\"]:\n",
    "            bonus_negative_emoticon += 1\n",
    "        \n",
    "        if synset and len(synset) > 1:\n",
    "            my_synsets.append((synset[0], previous_word))\n",
    "        \n",
    "    \n",
    "    for idx in range(len(my_synsets)):\n",
    "        current_synset = my_synsets[idx][0]\n",
    "        previous_word = my_synsets[idx][1]\n",
    "        result = swn.senti_synset(current_synset.name())\n",
    "        \n",
    "        follows_booster = True if previous_word.lower() in booster_list else False\n",
    "        follows_negation = True if previous_word.lower() in negation_list else False\n",
    "        \n",
    "        multiplier = 2 if follows_booster else 1\n",
    "        if result is not None :\n",
    "            positive_sum += multiplier * result.pos_score() if not follows_negation else result.neg_score()\n",
    "            negative_sum += multiplier * result.neg_score() if not follows_negation else result.pos_score()\n",
    "        \n",
    "        positive_sum += bonus_positive_emoticon\n",
    "        negative_sum += bonus_negative_emoticon\n",
    "    \n",
    "    return positive_sum if positive_sum >= negative_sum else -negative_sum"
   ]
  },
  {
   "cell_type": "code",
   "execution_count": 34,
   "metadata": {
    "collapsed": true
   },
   "outputs": [],
   "source": [
    "df['score_3'] = df.pos_tag.apply(get_score3, positive_emoticons=positive_emoticons, negative_emoticons=negative_emoticons)\n",
    "df[\"alg_popularity_3\"] = df['score_3'].apply(classify_tweet_2)"
   ]
  },
  {
   "cell_type": "code",
   "execution_count": 35,
   "metadata": {},
   "outputs": [
    {
     "data": {
      "image/png": "[encoded data removed]",
      "text/plain": [
       "<matplotlib.figure.Figure at 0x1211b5d68>"
      ]
     },
     "metadata": {},
     "output_type": "display_data"
    },
    {
     "name": "stdout",
     "output_type": "stream",
     "text": [
      "             precision    recall  f1-score   support\n",
      "\n",
      "   negative       0.72      0.37      0.49       177\n",
      "    neutral       0.54      0.54      0.54       139\n",
      "   positive       0.52      0.77      0.62       182\n",
      "\n",
      "avg / total       0.60      0.56      0.55       498\n",
      "\n"
     ]
    }
   ],
   "source": [
    "plot_results(\"alg_popularity_3\")"
   ]
  },
  {
   "cell_type": "markdown",
   "metadata": {},
   "source": [
    "### End"
   ]
  }
 ],
 "metadata": {
  "kernelspec": {
   "display_name": "Python [conda root]",
   "language": "python",
   "name": "conda-root-py"
  },
  "language_info": {
   "codemirror_mode": {
    "name": "ipython",
    "version": 3
   },
   "file_extension": ".py",
   "mimetype": "text/x-python",
   "name": "python",
   "nbconvert_exporter": "python",
   "pygments_lexer": "ipython3",
   "version": "3.5.4"
  },
  "latex_envs": {
   "LaTeX_envs_menu_present": true,
   "autocomplete": true,
   "bibliofile": "biblio.bib",
   "cite_by": "apalike",
   "current_citInitial": 1,
   "eqLabelWithNumbers": true,
   "eqNumInitial": 1,
   "hotkeys": {
    "equation": "Ctrl-E",
    "itemize": "Ctrl-I"
   },
   "labels_anchors": false,
   "latex_user_defs": false,
   "report_style_numbering": false,
   "user_envs_cfg": false
  },
  "varInspector": {
   "cols": {
    "lenName": 16,
    "lenType": 16,
    "lenVar": 40
   },
   "kernels_config": {
    "python": {
     "delete_cmd_postfix": "",
     "delete_cmd_prefix": "del ",
     "library": "var_list.py",
     "varRefreshCmd": "print(var_dic_list())"
    },
    "r": {
     "delete_cmd_postfix": ") ",
     "delete_cmd_prefix": "rm(",
     "library": "var_list.r",
     "varRefreshCmd": "cat(var_dic_list()) "
    }
   },
   "types_to_exclude": [
    "module",
    "function",
    "builtin_function_or_method",
    "instance",
    "_Feature"
   ],
   "window_display": false
  }
 },
 "nbformat": 4,
 "nbformat_minor": 2
}
